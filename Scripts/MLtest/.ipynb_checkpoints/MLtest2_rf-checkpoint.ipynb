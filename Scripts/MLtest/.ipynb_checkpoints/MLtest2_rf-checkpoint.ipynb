{
 "cells": [
  {
   "cell_type": "code",
   "execution_count": 1,
   "id": "8c6b89a3",
   "metadata": {},
   "outputs": [
    {
     "data": {
      "text/html": [
       "<div>\n",
       "<style scoped>\n",
       "    .dataframe tbody tr th:only-of-type {\n",
       "        vertical-align: middle;\n",
       "    }\n",
       "\n",
       "    .dataframe tbody tr th {\n",
       "        vertical-align: top;\n",
       "    }\n",
       "\n",
       "    .dataframe thead th {\n",
       "        text-align: right;\n",
       "    }\n",
       "</style>\n",
       "<table border=\"1\" class=\"dataframe\">\n",
       "  <thead>\n",
       "    <tr style=\"text-align: right;\">\n",
       "      <th></th>\n",
       "      <th>theta</th>\n",
       "      <th>alpha</th>\n",
       "      <th>beta</th>\n",
       "      <th>gamma</th>\n",
       "      <th>label</th>\n",
       "    </tr>\n",
       "  </thead>\n",
       "  <tbody>\n",
       "    <tr>\n",
       "      <th>0</th>\n",
       "      <td>1.487258</td>\n",
       "      <td>0.767073</td>\n",
       "      <td>49.139962</td>\n",
       "      <td>58.022208</td>\n",
       "      <td>commic</td>\n",
       "    </tr>\n",
       "    <tr>\n",
       "      <th>1</th>\n",
       "      <td>2.021670</td>\n",
       "      <td>0.764236</td>\n",
       "      <td>47.106116</td>\n",
       "      <td>42.039653</td>\n",
       "      <td>commic</td>\n",
       "    </tr>\n",
       "    <tr>\n",
       "      <th>2</th>\n",
       "      <td>2.898215</td>\n",
       "      <td>14.180342</td>\n",
       "      <td>38.830505</td>\n",
       "      <td>36.282118</td>\n",
       "      <td>commic</td>\n",
       "    </tr>\n",
       "    <tr>\n",
       "      <th>3</th>\n",
       "      <td>1.306313</td>\n",
       "      <td>11.096074</td>\n",
       "      <td>41.883632</td>\n",
       "      <td>24.262873</td>\n",
       "      <td>commic</td>\n",
       "    </tr>\n",
       "    <tr>\n",
       "      <th>4</th>\n",
       "      <td>10.440531</td>\n",
       "      <td>12.309126</td>\n",
       "      <td>41.655093</td>\n",
       "      <td>29.642362</td>\n",
       "      <td>commic</td>\n",
       "    </tr>\n",
       "  </tbody>\n",
       "</table>\n",
       "</div>"
      ],
      "text/plain": [
       "       theta      alpha       beta      gamma   label\n",
       "0   1.487258   0.767073  49.139962  58.022208  commic\n",
       "1   2.021670   0.764236  47.106116  42.039653  commic\n",
       "2   2.898215  14.180342  38.830505  36.282118  commic\n",
       "3   1.306313  11.096074  41.883632  24.262873  commic\n",
       "4  10.440531  12.309126  41.655093  29.642362  commic"
      ]
     },
     "execution_count": 1,
     "metadata": {},
     "output_type": "execute_result"
    }
   ],
   "source": [
    "import pandas as pd\n",
    "import numpy as np\n",
    "import matplotlib.pyplot as plt\n",
    "from sklearn.model_selection import train_test_split\n",
    "\n",
    "data = pd.read_csv('C:/Users/seohyunseo/Desktop/BCIMusic/Data/ML/train_set.csv')\n",
    "data.head()\n",
    "    "
   ]
  },
  {
   "cell_type": "code",
   "execution_count": 2,
   "id": "b7cc1699",
   "metadata": {},
   "outputs": [],
   "source": [
    "feature_col = list(data.columns.difference(['label']))\n",
    "x = data[feature_col]\n",
    "y = data['label']\n",
    "train_x, test_x, train_y, test_y = train_test_split(x,y,test_size=0.2, random_state=42)"
   ]
  },
  {
   "cell_type": "code",
   "execution_count": null,
   "id": "7f98c1f0",
   "metadata": {},
   "outputs": [],
   "source": []
  }
 ],
 "metadata": {
  "kernelspec": {
   "display_name": "Python 3 (ipykernel)",
   "language": "python",
   "name": "python3"
  },
  "language_info": {
   "codemirror_mode": {
    "name": "ipython",
    "version": 3
   },
   "file_extension": ".py",
   "mimetype": "text/x-python",
   "name": "python",
   "nbconvert_exporter": "python",
   "pygments_lexer": "ipython3",
   "version": "3.7.8"
  }
 },
 "nbformat": 4,
 "nbformat_minor": 5
}
