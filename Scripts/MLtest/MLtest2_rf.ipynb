{
 "cells": [
  {
   "cell_type": "code",
   "execution_count": 13,
   "id": "8c6b89a3",
   "metadata": {},
   "outputs": [
    {
     "data": {
      "text/html": [
       "<div>\n",
       "<style scoped>\n",
       "    .dataframe tbody tr th:only-of-type {\n",
       "        vertical-align: middle;\n",
       "    }\n",
       "\n",
       "    .dataframe tbody tr th {\n",
       "        vertical-align: top;\n",
       "    }\n",
       "\n",
       "    .dataframe thead th {\n",
       "        text-align: right;\n",
       "    }\n",
       "</style>\n",
       "<table border=\"1\" class=\"dataframe\">\n",
       "  <thead>\n",
       "    <tr style=\"text-align: right;\">\n",
       "      <th></th>\n",
       "      <th>theta</th>\n",
       "      <th>alpha</th>\n",
       "      <th>beta</th>\n",
       "      <th>gamma</th>\n",
       "      <th>label</th>\n",
       "    </tr>\n",
       "  </thead>\n",
       "  <tbody>\n",
       "    <tr>\n",
       "      <th>0</th>\n",
       "      <td>39.317338</td>\n",
       "      <td>22.967798</td>\n",
       "      <td>17.838988</td>\n",
       "      <td>17.642033</td>\n",
       "      <td>sad</td>\n",
       "    </tr>\n",
       "    <tr>\n",
       "      <th>1</th>\n",
       "      <td>48.513842</td>\n",
       "      <td>10.135195</td>\n",
       "      <td>22.818241</td>\n",
       "      <td>22.806476</td>\n",
       "      <td>sad</td>\n",
       "    </tr>\n",
       "    <tr>\n",
       "      <th>2</th>\n",
       "      <td>44.647864</td>\n",
       "      <td>18.726631</td>\n",
       "      <td>14.759608</td>\n",
       "      <td>15.221339</td>\n",
       "      <td>sad</td>\n",
       "    </tr>\n",
       "    <tr>\n",
       "      <th>3</th>\n",
       "      <td>31.713300</td>\n",
       "      <td>18.282935</td>\n",
       "      <td>17.550778</td>\n",
       "      <td>15.478370</td>\n",
       "      <td>sad</td>\n",
       "    </tr>\n",
       "    <tr>\n",
       "      <th>4</th>\n",
       "      <td>37.806001</td>\n",
       "      <td>27.527747</td>\n",
       "      <td>19.986808</td>\n",
       "      <td>14.684771</td>\n",
       "      <td>sad</td>\n",
       "    </tr>\n",
       "  </tbody>\n",
       "</table>\n",
       "</div>"
      ],
      "text/plain": [
       "       theta      alpha       beta      gamma label\n",
       "0  39.317338  22.967798  17.838988  17.642033   sad\n",
       "1  48.513842  10.135195  22.818241  22.806476   sad\n",
       "2  44.647864  18.726631  14.759608  15.221339   sad\n",
       "3  31.713300  18.282935  17.550778  15.478370   sad\n",
       "4  37.806001  27.527747  19.986808  14.684771   sad"
      ]
     },
     "execution_count": 13,
     "metadata": {},
     "output_type": "execute_result"
    }
   ],
   "source": [
    "import pandas as pd\n",
    "import numpy as np\n",
    "import matplotlib.pyplot as plt\n",
    "from sklearn.model_selection import train_test_split\n",
    "\n",
    "data = pd.read_csv('C:/Users/seohyunseo/Desktop/BCIMusic/Data/ML/train_set.csv')\n",
    "data.head()\n",
    "    "
   ]
  },
  {
   "cell_type": "code",
   "execution_count": 14,
   "id": "b7cc1699",
   "metadata": {},
   "outputs": [
    {
     "name": "stdout",
     "output_type": "stream",
     "text": [
      "(24, 4) (7, 4) (24,) (7,)\n"
     ]
    }
   ],
   "source": [
    "feature_col = list(data.columns.difference(['label']))\n",
    "x = data[feature_col]\n",
    "y = data['label']\n",
    "train_x, test_x, train_y, test_y = train_test_split(x,y,test_size=0.2, random_state=42)\n",
    "print(train_x.shape, test_x.shape, train_y.shape, test_y.shape)"
   ]
  },
  {
   "cell_type": "code",
   "execution_count": 15,
   "id": "7f98c1f0",
   "metadata": {},
   "outputs": [],
   "source": [
    "from sklearn.ensemble import RandomForestClassifier\n",
    "from sklearn.metrics import accuracy_score"
   ]
  },
  {
   "cell_type": "code",
   "execution_count": 17,
   "id": "1ad7b0a2",
   "metadata": {},
   "outputs": [
    {
     "name": "stdout",
     "output_type": "stream",
     "text": [
      "accuracy:  0.7142857142857143\n",
      "['sad' 'sad' 'commic' 'sad' 'sad' 'sad' 'sad']\n"
     ]
    }
   ],
   "source": [
    "clf = RandomForestClassifier(n_estimators=100, max_depth=10,random_state=0)\n",
    "clf.fit(train_x,train_y)\n",
    "predict1 = clf.predict(test_x)\n",
    "print('accuracy: ',accuracy_score(test_y,predict1))\n",
    "print(predict1)"
   ]
  },
  {
   "cell_type": "code",
   "execution_count": null,
   "id": "175cb8fc",
   "metadata": {},
   "outputs": [],
   "source": []
  }
 ],
 "metadata": {
  "kernelspec": {
   "display_name": "Python 3 (ipykernel)",
   "language": "python",
   "name": "python3"
  },
  "language_info": {
   "codemirror_mode": {
    "name": "ipython",
    "version": 3
   },
   "file_extension": ".py",
   "mimetype": "text/x-python",
   "name": "python",
   "nbconvert_exporter": "python",
   "pygments_lexer": "ipython3",
   "version": "3.7.8"
  }
 },
 "nbformat": 4,
 "nbformat_minor": 5
}
